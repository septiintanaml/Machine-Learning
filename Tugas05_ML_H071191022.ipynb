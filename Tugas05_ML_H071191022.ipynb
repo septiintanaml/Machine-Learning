{
  "nbformat": 4,
  "nbformat_minor": 0,
  "metadata": {
    "colab": {
      "name": "Tugas05-ML-H071191022.ipynb",
      "provenance": [],
      "toc_visible": true
    },
    "kernelspec": {
      "name": "python3",
      "display_name": "Python 3"
    },
    "language_info": {
      "name": "python"
    }
  },
  "cells": [
    {
      "cell_type": "markdown",
      "metadata": {
        "id": "BBmEui1xZ0Xw"
      },
      "source": [
        "Nama : Septi Intan Amalia\n",
        "\n",
        "Nim : H071191022"
      ]
    },
    {
      "cell_type": "code",
      "metadata": {
        "id": "v19BldB-bZOD"
      },
      "source": [
        "import pandas as pd\n",
        "from sklearn.model_selection import train_test_split\n",
        "from sklearn import svm\n",
        "\n",
        "# accuration predict\n",
        "from sklearn.metrics import  confusion_matrix\n",
        "from sklearn.metrics import fbeta_score\n",
        "from sklearn.metrics import classification_report\n"
      ],
      "execution_count": 1,
      "outputs": []
    },
    {
      "cell_type": "code",
      "metadata": {
        "colab": {
          "base_uri": "https://localhost:8080/"
        },
        "id": "g3VNNlvCHA5G",
        "outputId": "d1d98a93-9351-401e-b457-6560aaca7830"
      },
      "source": [
        "from google.colab import drive\n",
        "drive.mount('/content/drive')"
      ],
      "execution_count": 2,
      "outputs": [
        {
          "output_type": "stream",
          "name": "stdout",
          "text": [
            "Drive already mounted at /content/drive; to attempt to forcibly remount, call drive.mount(\"/content/drive\", force_remount=True).\n"
          ]
        }
      ]
    },
    {
      "cell_type": "code",
      "metadata": {
        "id": "WGQJ1xM4bpS0",
        "colab": {
          "base_uri": "https://localhost:8080/",
          "height": 844
        },
        "outputId": "3dd9429b-151d-4c74-fd24-8723147117ef"
      },
      "source": [
        "#untuk import data dan dijadikan dataframe\n",
        "df = pd.read_csv(\"/content/drive/MyDrive/RiceGonenandJasmine.csv\")\n",
        "df.head(25)"
      ],
      "execution_count": 3,
      "outputs": [
        {
          "output_type": "execute_result",
          "data": {
            "text/html": [
              "<div>\n",
              "<style scoped>\n",
              "    .dataframe tbody tr th:only-of-type {\n",
              "        vertical-align: middle;\n",
              "    }\n",
              "\n",
              "    .dataframe tbody tr th {\n",
              "        vertical-align: top;\n",
              "    }\n",
              "\n",
              "    .dataframe thead th {\n",
              "        text-align: right;\n",
              "    }\n",
              "</style>\n",
              "<table border=\"1\" class=\"dataframe\">\n",
              "  <thead>\n",
              "    <tr style=\"text-align: right;\">\n",
              "      <th></th>\n",
              "      <th>id</th>\n",
              "      <th>Area</th>\n",
              "      <th>MajorAxisLength</th>\n",
              "      <th>MinorAxisLength</th>\n",
              "      <th>Eccentricity</th>\n",
              "      <th>ConvexArea</th>\n",
              "      <th>EquivDiameter</th>\n",
              "      <th>Extent</th>\n",
              "      <th>Perimeter</th>\n",
              "      <th>Roundness</th>\n",
              "      <th>AspectRation</th>\n",
              "      <th>Class</th>\n",
              "    </tr>\n",
              "  </thead>\n",
              "  <tbody>\n",
              "    <tr>\n",
              "      <th>0</th>\n",
              "      <td>1</td>\n",
              "      <td>4537</td>\n",
              "      <td>92.229317</td>\n",
              "      <td>64.012769</td>\n",
              "      <td>0.719916</td>\n",
              "      <td>4677</td>\n",
              "      <td>76.004525</td>\n",
              "      <td>0.657536</td>\n",
              "      <td>273.085</td>\n",
              "      <td>0.764510</td>\n",
              "      <td>1.440796</td>\n",
              "      <td>jasmine</td>\n",
              "    </tr>\n",
              "    <tr>\n",
              "      <th>1</th>\n",
              "      <td>2</td>\n",
              "      <td>2872</td>\n",
              "      <td>74.691881</td>\n",
              "      <td>51.400454</td>\n",
              "      <td>0.725553</td>\n",
              "      <td>3015</td>\n",
              "      <td>60.471018</td>\n",
              "      <td>0.713009</td>\n",
              "      <td>208.317</td>\n",
              "      <td>0.831658</td>\n",
              "      <td>1.453137</td>\n",
              "      <td>jasmine</td>\n",
              "    </tr>\n",
              "    <tr>\n",
              "      <th>2</th>\n",
              "      <td>3</td>\n",
              "      <td>3048</td>\n",
              "      <td>76.293164</td>\n",
              "      <td>52.043491</td>\n",
              "      <td>0.731211</td>\n",
              "      <td>3132</td>\n",
              "      <td>62.296341</td>\n",
              "      <td>0.759153</td>\n",
              "      <td>210.012</td>\n",
              "      <td>0.868434</td>\n",
              "      <td>1.465950</td>\n",
              "      <td>jasmine</td>\n",
              "    </tr>\n",
              "    <tr>\n",
              "      <th>3</th>\n",
              "      <td>4</td>\n",
              "      <td>3073</td>\n",
              "      <td>77.033628</td>\n",
              "      <td>51.928487</td>\n",
              "      <td>0.738639</td>\n",
              "      <td>3157</td>\n",
              "      <td>62.551300</td>\n",
              "      <td>0.783529</td>\n",
              "      <td>210.657</td>\n",
              "      <td>0.870203</td>\n",
              "      <td>1.483456</td>\n",
              "      <td>jasmine</td>\n",
              "    </tr>\n",
              "    <tr>\n",
              "      <th>4</th>\n",
              "      <td>5</td>\n",
              "      <td>3693</td>\n",
              "      <td>85.124785</td>\n",
              "      <td>56.374021</td>\n",
              "      <td>0.749282</td>\n",
              "      <td>3802</td>\n",
              "      <td>68.571668</td>\n",
              "      <td>0.769375</td>\n",
              "      <td>230.332</td>\n",
              "      <td>0.874743</td>\n",
              "      <td>1.510000</td>\n",
              "      <td>jasmine</td>\n",
              "    </tr>\n",
              "    <tr>\n",
              "      <th>5</th>\n",
              "      <td>6</td>\n",
              "      <td>2990</td>\n",
              "      <td>77.417073</td>\n",
              "      <td>50.954344</td>\n",
              "      <td>0.752861</td>\n",
              "      <td>3080</td>\n",
              "      <td>61.700780</td>\n",
              "      <td>0.584898</td>\n",
              "      <td>216.930</td>\n",
              "      <td>0.798439</td>\n",
              "      <td>1.519342</td>\n",
              "      <td>jasmine</td>\n",
              "    </tr>\n",
              "    <tr>\n",
              "      <th>6</th>\n",
              "      <td>7</td>\n",
              "      <td>3556</td>\n",
              "      <td>84.323564</td>\n",
              "      <td>55.413061</td>\n",
              "      <td>0.753762</td>\n",
              "      <td>3636</td>\n",
              "      <td>67.287739</td>\n",
              "      <td>0.750211</td>\n",
              "      <td>227.007</td>\n",
              "      <td>0.867148</td>\n",
              "      <td>1.521727</td>\n",
              "      <td>jasmine</td>\n",
              "    </tr>\n",
              "    <tr>\n",
              "      <th>7</th>\n",
              "      <td>8</td>\n",
              "      <td>3788</td>\n",
              "      <td>86.952411</td>\n",
              "      <td>56.444769</td>\n",
              "      <td>0.760664</td>\n",
              "      <td>3866</td>\n",
              "      <td>69.448048</td>\n",
              "      <td>0.800676</td>\n",
              "      <td>235.476</td>\n",
              "      <td>0.858473</td>\n",
              "      <td>1.540487</td>\n",
              "      <td>jasmine</td>\n",
              "    </tr>\n",
              "    <tr>\n",
              "      <th>8</th>\n",
              "      <td>9</td>\n",
              "      <td>2629</td>\n",
              "      <td>74.133114</td>\n",
              "      <td>48.074144</td>\n",
              "      <td>0.761228</td>\n",
              "      <td>2790</td>\n",
              "      <td>57.856260</td>\n",
              "      <td>0.640595</td>\n",
              "      <td>207.325</td>\n",
              "      <td>0.768594</td>\n",
              "      <td>1.542058</td>\n",
              "      <td>jasmine</td>\n",
              "    </tr>\n",
              "    <tr>\n",
              "      <th>9</th>\n",
              "      <td>10</td>\n",
              "      <td>5719</td>\n",
              "      <td>106.721142</td>\n",
              "      <td>68.977700</td>\n",
              "      <td>0.763053</td>\n",
              "      <td>5819</td>\n",
              "      <td>85.332625</td>\n",
              "      <td>0.754983</td>\n",
              "      <td>281.839</td>\n",
              "      <td>0.904748</td>\n",
              "      <td>1.547183</td>\n",
              "      <td>jasmine</td>\n",
              "    </tr>\n",
              "    <tr>\n",
              "      <th>10</th>\n",
              "      <td>11</td>\n",
              "      <td>2665</td>\n",
              "      <td>74.364021</td>\n",
              "      <td>48.053188</td>\n",
              "      <td>0.763178</td>\n",
              "      <td>2777</td>\n",
              "      <td>58.251038</td>\n",
              "      <td>0.596731</td>\n",
              "      <td>202.456</td>\n",
              "      <td>0.817045</td>\n",
              "      <td>1.547536</td>\n",
              "      <td>jasmine</td>\n",
              "    </tr>\n",
              "    <tr>\n",
              "      <th>11</th>\n",
              "      <td>12</td>\n",
              "      <td>3231</td>\n",
              "      <td>81.304200</td>\n",
              "      <td>52.451136</td>\n",
              "      <td>0.764080</td>\n",
              "      <td>3330</td>\n",
              "      <td>64.139200</td>\n",
              "      <td>0.614960</td>\n",
              "      <td>218.773</td>\n",
              "      <td>0.848319</td>\n",
              "      <td>1.550094</td>\n",
              "      <td>jasmine</td>\n",
              "    </tr>\n",
              "    <tr>\n",
              "      <th>12</th>\n",
              "      <td>13</td>\n",
              "      <td>2805</td>\n",
              "      <td>77.047682</td>\n",
              "      <td>49.242678</td>\n",
              "      <td>0.769107</td>\n",
              "      <td>2950</td>\n",
              "      <td>59.761500</td>\n",
              "      <td>0.603226</td>\n",
              "      <td>209.823</td>\n",
              "      <td>0.800639</td>\n",
              "      <td>1.564653</td>\n",
              "      <td>jasmine</td>\n",
              "    </tr>\n",
              "    <tr>\n",
              "      <th>13</th>\n",
              "      <td>14</td>\n",
              "      <td>3265</td>\n",
              "      <td>83.378487</td>\n",
              "      <td>52.764865</td>\n",
              "      <td>0.774286</td>\n",
              "      <td>3420</td>\n",
              "      <td>64.475787</td>\n",
              "      <td>0.575838</td>\n",
              "      <td>227.853</td>\n",
              "      <td>0.790285</td>\n",
              "      <td>1.580190</td>\n",
              "      <td>jasmine</td>\n",
              "    </tr>\n",
              "    <tr>\n",
              "      <th>14</th>\n",
              "      <td>15</td>\n",
              "      <td>4301</td>\n",
              "      <td>94.915392</td>\n",
              "      <td>59.822820</td>\n",
              "      <td>0.776372</td>\n",
              "      <td>4427</td>\n",
              "      <td>74.001374</td>\n",
              "      <td>0.801230</td>\n",
              "      <td>257.607</td>\n",
              "      <td>0.814449</td>\n",
              "      <td>1.586608</td>\n",
              "      <td>jasmine</td>\n",
              "    </tr>\n",
              "    <tr>\n",
              "      <th>15</th>\n",
              "      <td>16</td>\n",
              "      <td>3393</td>\n",
              "      <td>84.058480</td>\n",
              "      <td>52.951486</td>\n",
              "      <td>0.776647</td>\n",
              "      <td>3477</td>\n",
              "      <td>65.727481</td>\n",
              "      <td>0.688515</td>\n",
              "      <td>224.485</td>\n",
              "      <td>0.846095</td>\n",
              "      <td>1.587462</td>\n",
              "      <td>jasmine</td>\n",
              "    </tr>\n",
              "    <tr>\n",
              "      <th>16</th>\n",
              "      <td>17</td>\n",
              "      <td>3475</td>\n",
              "      <td>84.581148</td>\n",
              "      <td>53.191205</td>\n",
              "      <td>0.777504</td>\n",
              "      <td>3539</td>\n",
              "      <td>66.516971</td>\n",
              "      <td>0.652215</td>\n",
              "      <td>221.295</td>\n",
              "      <td>0.891706</td>\n",
              "      <td>1.590134</td>\n",
              "      <td>jasmine</td>\n",
              "    </tr>\n",
              "    <tr>\n",
              "      <th>17</th>\n",
              "      <td>18</td>\n",
              "      <td>4577</td>\n",
              "      <td>98.358549</td>\n",
              "      <td>60.753330</td>\n",
              "      <td>0.786436</td>\n",
              "      <td>4652</td>\n",
              "      <td>76.338833</td>\n",
              "      <td>0.591726</td>\n",
              "      <td>259.184</td>\n",
              "      <td>0.856198</td>\n",
              "      <td>1.618982</td>\n",
              "      <td>jasmine</td>\n",
              "    </tr>\n",
              "    <tr>\n",
              "      <th>18</th>\n",
              "      <td>19</td>\n",
              "      <td>3028</td>\n",
              "      <td>81.277552</td>\n",
              "      <td>49.167362</td>\n",
              "      <td>0.796277</td>\n",
              "      <td>3114</td>\n",
              "      <td>62.091621</td>\n",
              "      <td>0.753609</td>\n",
              "      <td>211.667</td>\n",
              "      <td>0.849297</td>\n",
              "      <td>1.653079</td>\n",
              "      <td>jasmine</td>\n",
              "    </tr>\n",
              "    <tr>\n",
              "      <th>19</th>\n",
              "      <td>20</td>\n",
              "      <td>3552</td>\n",
              "      <td>88.029378</td>\n",
              "      <td>53.176037</td>\n",
              "      <td>0.796930</td>\n",
              "      <td>3654</td>\n",
              "      <td>67.249884</td>\n",
              "      <td>0.623705</td>\n",
              "      <td>232.122</td>\n",
              "      <td>0.828419</td>\n",
              "      <td>1.655433</td>\n",
              "      <td>jasmine</td>\n",
              "    </tr>\n",
              "    <tr>\n",
              "      <th>20</th>\n",
              "      <td>21</td>\n",
              "      <td>3852</td>\n",
              "      <td>92.208290</td>\n",
              "      <td>55.277012</td>\n",
              "      <td>0.800390</td>\n",
              "      <td>4023</td>\n",
              "      <td>70.032269</td>\n",
              "      <td>0.653990</td>\n",
              "      <td>245.517</td>\n",
              "      <td>0.803032</td>\n",
              "      <td>1.668113</td>\n",
              "      <td>jasmine</td>\n",
              "    </tr>\n",
              "    <tr>\n",
              "      <th>21</th>\n",
              "      <td>22</td>\n",
              "      <td>3163</td>\n",
              "      <td>83.823270</td>\n",
              "      <td>50.024655</td>\n",
              "      <td>0.802400</td>\n",
              "      <td>3232</td>\n",
              "      <td>63.460670</td>\n",
              "      <td>0.584442</td>\n",
              "      <td>221.380</td>\n",
              "      <td>0.811021</td>\n",
              "      <td>1.675639</td>\n",
              "      <td>jasmine</td>\n",
              "    </tr>\n",
              "    <tr>\n",
              "      <th>22</th>\n",
              "      <td>23</td>\n",
              "      <td>3910</td>\n",
              "      <td>92.589323</td>\n",
              "      <td>55.111403</td>\n",
              "      <td>0.803560</td>\n",
              "      <td>4067</td>\n",
              "      <td>70.557541</td>\n",
              "      <td>0.622810</td>\n",
              "      <td>252.523</td>\n",
              "      <td>0.770521</td>\n",
              "      <td>1.680039</td>\n",
              "      <td>jasmine</td>\n",
              "    </tr>\n",
              "    <tr>\n",
              "      <th>23</th>\n",
              "      <td>24</td>\n",
              "      <td>3505</td>\n",
              "      <td>88.001794</td>\n",
              "      <td>52.277039</td>\n",
              "      <td>0.804432</td>\n",
              "      <td>3586</td>\n",
              "      <td>66.803477</td>\n",
              "      <td>0.594773</td>\n",
              "      <td>229.044</td>\n",
              "      <td>0.839576</td>\n",
              "      <td>1.683374</td>\n",
              "      <td>jasmine</td>\n",
              "    </tr>\n",
              "    <tr>\n",
              "      <th>24</th>\n",
              "      <td>25</td>\n",
              "      <td>2647</td>\n",
              "      <td>76.789043</td>\n",
              "      <td>45.529112</td>\n",
              "      <td>0.805268</td>\n",
              "      <td>2710</td>\n",
              "      <td>58.053984</td>\n",
              "      <td>0.598192</td>\n",
              "      <td>200.587</td>\n",
              "      <td>0.826720</td>\n",
              "      <td>1.686592</td>\n",
              "      <td>jasmine</td>\n",
              "    </tr>\n",
              "  </tbody>\n",
              "</table>\n",
              "</div>"
            ],
            "text/plain": [
              "    id  Area  MajorAxisLength  ...  Roundness  AspectRation    Class\n",
              "0    1  4537        92.229317  ...   0.764510      1.440796  jasmine\n",
              "1    2  2872        74.691881  ...   0.831658      1.453137  jasmine\n",
              "2    3  3048        76.293164  ...   0.868434      1.465950  jasmine\n",
              "3    4  3073        77.033628  ...   0.870203      1.483456  jasmine\n",
              "4    5  3693        85.124785  ...   0.874743      1.510000  jasmine\n",
              "5    6  2990        77.417073  ...   0.798439      1.519342  jasmine\n",
              "6    7  3556        84.323564  ...   0.867148      1.521727  jasmine\n",
              "7    8  3788        86.952411  ...   0.858473      1.540487  jasmine\n",
              "8    9  2629        74.133114  ...   0.768594      1.542058  jasmine\n",
              "9   10  5719       106.721142  ...   0.904748      1.547183  jasmine\n",
              "10  11  2665        74.364021  ...   0.817045      1.547536  jasmine\n",
              "11  12  3231        81.304200  ...   0.848319      1.550094  jasmine\n",
              "12  13  2805        77.047682  ...   0.800639      1.564653  jasmine\n",
              "13  14  3265        83.378487  ...   0.790285      1.580190  jasmine\n",
              "14  15  4301        94.915392  ...   0.814449      1.586608  jasmine\n",
              "15  16  3393        84.058480  ...   0.846095      1.587462  jasmine\n",
              "16  17  3475        84.581148  ...   0.891706      1.590134  jasmine\n",
              "17  18  4577        98.358549  ...   0.856198      1.618982  jasmine\n",
              "18  19  3028        81.277552  ...   0.849297      1.653079  jasmine\n",
              "19  20  3552        88.029378  ...   0.828419      1.655433  jasmine\n",
              "20  21  3852        92.208290  ...   0.803032      1.668113  jasmine\n",
              "21  22  3163        83.823270  ...   0.811021      1.675639  jasmine\n",
              "22  23  3910        92.589323  ...   0.770521      1.680039  jasmine\n",
              "23  24  3505        88.001794  ...   0.839576      1.683374  jasmine\n",
              "24  25  2647        76.789043  ...   0.826720      1.686592  jasmine\n",
              "\n",
              "[25 rows x 12 columns]"
            ]
          },
          "metadata": {},
          "execution_count": 3
        }
      ]
    },
    {
      "cell_type": "code",
      "metadata": {
        "id": "7hmTylFKjC8J"
      },
      "source": [
        "# label_enc = {\"Class\": (\"jasmine\":1.0)}\n",
        "# df.replace(label_enc, implace=True)"
      ],
      "execution_count": null,
      "outputs": []
    },
    {
      "cell_type": "code",
      "metadata": {
        "colab": {
          "base_uri": "https://localhost:8080/"
        },
        "id": "nUpiJp5CjALp",
        "outputId": "384f7a36-01cd-49fd-e65d-0efcf082eaa8"
      },
      "source": [
        "df.shape"
      ],
      "execution_count": 4,
      "outputs": [
        {
          "output_type": "execute_result",
          "data": {
            "text/plain": [
              "(18185, 12)"
            ]
          },
          "metadata": {},
          "execution_count": 4
        }
      ]
    },
    {
      "cell_type": "code",
      "metadata": {
        "id": "ivldanWveQEi",
        "colab": {
          "base_uri": "https://localhost:8080/",
          "height": 419
        },
        "outputId": "1f66d2f5-7dfb-4cb7-f49b-9cbd00fb886b"
      },
      "source": [
        "X = df.iloc[:, :3]\n",
        "X"
      ],
      "execution_count": 5,
      "outputs": [
        {
          "output_type": "execute_result",
          "data": {
            "text/html": [
              "<div>\n",
              "<style scoped>\n",
              "    .dataframe tbody tr th:only-of-type {\n",
              "        vertical-align: middle;\n",
              "    }\n",
              "\n",
              "    .dataframe tbody tr th {\n",
              "        vertical-align: top;\n",
              "    }\n",
              "\n",
              "    .dataframe thead th {\n",
              "        text-align: right;\n",
              "    }\n",
              "</style>\n",
              "<table border=\"1\" class=\"dataframe\">\n",
              "  <thead>\n",
              "    <tr style=\"text-align: right;\">\n",
              "      <th></th>\n",
              "      <th>id</th>\n",
              "      <th>Area</th>\n",
              "      <th>MajorAxisLength</th>\n",
              "    </tr>\n",
              "  </thead>\n",
              "  <tbody>\n",
              "    <tr>\n",
              "      <th>0</th>\n",
              "      <td>1</td>\n",
              "      <td>4537</td>\n",
              "      <td>92.229317</td>\n",
              "    </tr>\n",
              "    <tr>\n",
              "      <th>1</th>\n",
              "      <td>2</td>\n",
              "      <td>2872</td>\n",
              "      <td>74.691881</td>\n",
              "    </tr>\n",
              "    <tr>\n",
              "      <th>2</th>\n",
              "      <td>3</td>\n",
              "      <td>3048</td>\n",
              "      <td>76.293164</td>\n",
              "    </tr>\n",
              "    <tr>\n",
              "      <th>3</th>\n",
              "      <td>4</td>\n",
              "      <td>3073</td>\n",
              "      <td>77.033628</td>\n",
              "    </tr>\n",
              "    <tr>\n",
              "      <th>4</th>\n",
              "      <td>5</td>\n",
              "      <td>3693</td>\n",
              "      <td>85.124785</td>\n",
              "    </tr>\n",
              "    <tr>\n",
              "      <th>...</th>\n",
              "      <td>...</td>\n",
              "      <td>...</td>\n",
              "      <td>...</td>\n",
              "    </tr>\n",
              "    <tr>\n",
              "      <th>18180</th>\n",
              "      <td>18181</td>\n",
              "      <td>5853</td>\n",
              "      <td>148.624571</td>\n",
              "    </tr>\n",
              "    <tr>\n",
              "      <th>18181</th>\n",
              "      <td>18182</td>\n",
              "      <td>7585</td>\n",
              "      <td>169.593996</td>\n",
              "    </tr>\n",
              "    <tr>\n",
              "      <th>18182</th>\n",
              "      <td>18183</td>\n",
              "      <td>6365</td>\n",
              "      <td>154.777085</td>\n",
              "    </tr>\n",
              "    <tr>\n",
              "      <th>18183</th>\n",
              "      <td>18184</td>\n",
              "      <td>5960</td>\n",
              "      <td>151.397924</td>\n",
              "    </tr>\n",
              "    <tr>\n",
              "      <th>18184</th>\n",
              "      <td>18185</td>\n",
              "      <td>6134</td>\n",
              "      <td>153.081981</td>\n",
              "    </tr>\n",
              "  </tbody>\n",
              "</table>\n",
              "<p>18185 rows × 3 columns</p>\n",
              "</div>"
            ],
            "text/plain": [
              "          id  Area  MajorAxisLength\n",
              "0          1  4537        92.229317\n",
              "1          2  2872        74.691881\n",
              "2          3  3048        76.293164\n",
              "3          4  3073        77.033628\n",
              "4          5  3693        85.124785\n",
              "...      ...   ...              ...\n",
              "18180  18181  5853       148.624571\n",
              "18181  18182  7585       169.593996\n",
              "18182  18183  6365       154.777085\n",
              "18183  18184  5960       151.397924\n",
              "18184  18185  6134       153.081981\n",
              "\n",
              "[18185 rows x 3 columns]"
            ]
          },
          "metadata": {},
          "execution_count": 5
        }
      ]
    },
    {
      "cell_type": "code",
      "metadata": {
        "colab": {
          "base_uri": "https://localhost:8080/"
        },
        "id": "wBDeTA6zecG_",
        "outputId": "a38e7ff3-37d8-42b4-f7ad-b082fb984055"
      },
      "source": [
        "y = df.iloc[:, -1]\n",
        "y"
      ],
      "execution_count": 6,
      "outputs": [
        {
          "output_type": "execute_result",
          "data": {
            "text/plain": [
              "0        jasmine\n",
              "1        jasmine\n",
              "2        jasmine\n",
              "3        jasmine\n",
              "4        jasmine\n",
              "          ...   \n",
              "18180      Gonen\n",
              "18181      Gonen\n",
              "18182      Gonen\n",
              "18183      Gonen\n",
              "18184      Gonen\n",
              "Name: Class, Length: 18185, dtype: object"
            ]
          },
          "metadata": {},
          "execution_count": 6
        }
      ]
    },
    {
      "cell_type": "code",
      "metadata": {
        "id": "YgJ3gemVbJT2"
      },
      "source": [
        "X_train, X_test, y_train, y_test = train_test_split(X, y, test_size=0.2)"
      ],
      "execution_count": 8,
      "outputs": []
    },
    {
      "cell_type": "code",
      "metadata": {
        "colab": {
          "base_uri": "https://localhost:8080/"
        },
        "id": "Mc3SCITxcJqE",
        "outputId": "cfeb82d1-d2c2-42a3-80bc-1c0f579d48b6"
      },
      "source": [
        "len(X_test), len(X_train)\n",
        "#ukuran data setelah dibagi"
      ],
      "execution_count": null,
      "outputs": [
        {
          "output_type": "execute_result",
          "data": {
            "text/plain": [
              "(6002, 12183)"
            ]
          },
          "metadata": {},
          "execution_count": 94
        }
      ]
    },
    {
      "cell_type": "markdown",
      "metadata": {
        "id": "BaCLf8T2Hb7h"
      },
      "source": [
        "# SVM\n"
      ]
    },
    {
      "cell_type": "markdown",
      "metadata": {
        "id": "FCaTKJg7Hfvh"
      },
      "source": [
        "\n",
        "SVM\n",
        "SVM merupakan suatu teknik untuk menemukan hyperplane yang bisa memisahkan dua set data dari dua kelas yang berbeda (Vapnik, 1999). SVM memiliki kelebihan diantaranya adalah dalam menentukan jarak menggunakan support vector sehingga proses komputasi menjadi cepat (Vapnik, 1995). \n",
        "\n",
        "Hyperplane adalah sebuah fungsi yang dapat digunakan untuk pemisah antar kelas. Dalam SVM objek data terluar yang paling dekat dengan hyperplane disebut support vector. Objek yang disebut support vector paling sulit diklasifikasikan dikarenakan posisi yang hampir tumpang tindih (overlap) dengan kelas lain"
      ]
    },
    {
      "cell_type": "code",
      "metadata": {
        "id": "NkCPDeEOcVFk"
      },
      "source": [
        "list_kernel = [\"linear\", \"rbf\", \"poly\", \"sigmoid\"]"
      ],
      "execution_count": 9,
      "outputs": []
    },
    {
      "cell_type": "code",
      "metadata": {
        "id": "lYUWLMoYdaaU"
      },
      "source": [
        "list_model_svm =[]\n",
        "for i in list_kernel:\n",
        "  temporary_model = svm.SVC(kernel=i)\n",
        "  temporary_model.fit(X_train, y_train)\n",
        "  list_model_svm.append(temporary_model)"
      ],
      "execution_count": 10,
      "outputs": []
    },
    {
      "cell_type": "code",
      "metadata": {
        "colab": {
          "base_uri": "https://localhost:8080/"
        },
        "id": "ByxmyarpfHkN",
        "outputId": "213a8c09-69e0-4d80-e76e-4a702180b5da"
      },
      "source": [
        "list_model_svm"
      ],
      "execution_count": 11,
      "outputs": [
        {
          "output_type": "execute_result",
          "data": {
            "text/plain": [
              "[SVC(C=1.0, break_ties=False, cache_size=200, class_weight=None, coef0=0.0,\n",
              "     decision_function_shape='ovr', degree=3, gamma='scale', kernel='linear',\n",
              "     max_iter=-1, probability=False, random_state=None, shrinking=True,\n",
              "     tol=0.001, verbose=False),\n",
              " SVC(C=1.0, break_ties=False, cache_size=200, class_weight=None, coef0=0.0,\n",
              "     decision_function_shape='ovr', degree=3, gamma='scale', kernel='rbf',\n",
              "     max_iter=-1, probability=False, random_state=None, shrinking=True,\n",
              "     tol=0.001, verbose=False),\n",
              " SVC(C=1.0, break_ties=False, cache_size=200, class_weight=None, coef0=0.0,\n",
              "     decision_function_shape='ovr', degree=3, gamma='scale', kernel='poly',\n",
              "     max_iter=-1, probability=False, random_state=None, shrinking=True,\n",
              "     tol=0.001, verbose=False),\n",
              " SVC(C=1.0, break_ties=False, cache_size=200, class_weight=None, coef0=0.0,\n",
              "     decision_function_shape='ovr', degree=3, gamma='scale', kernel='sigmoid',\n",
              "     max_iter=-1, probability=False, random_state=None, shrinking=True,\n",
              "     tol=0.001, verbose=False)]"
            ]
          },
          "metadata": {},
          "execution_count": 11
        }
      ]
    },
    {
      "cell_type": "code",
      "metadata": {
        "colab": {
          "base_uri": "https://localhost:8080/"
        },
        "id": "Zp8w3L6sdcD9",
        "outputId": "1a9acd54-b2f2-404c-be02-5a624f48fd7d"
      },
      "source": [
        "#build model\n",
        "model_svr = svm.SVR(kernel=\"linear\")\n",
        "model_svm = svm.SVC(kernel=\"poly\")\n",
        "#training model\n",
        "model_svm.fit(X_train, y_train)"
      ],
      "execution_count": 12,
      "outputs": [
        {
          "output_type": "execute_result",
          "data": {
            "text/plain": [
              "SVC(C=1.0, break_ties=False, cache_size=200, class_weight=None, coef0=0.0,\n",
              "    decision_function_shape='ovr', degree=3, gamma='scale', kernel='poly',\n",
              "    max_iter=-1, probability=False, random_state=None, shrinking=True,\n",
              "    tol=0.001, verbose=False)"
            ]
          },
          "metadata": {},
          "execution_count": 12
        }
      ]
    },
    {
      "cell_type": "code",
      "metadata": {
        "colab": {
          "base_uri": "https://localhost:8080/"
        },
        "id": "JEkbDoRne0qc",
        "outputId": "2f3bed11-5f6a-485e-ec21-219c5a9b41e6"
      },
      "source": [
        "#buar variabel hasil prediksi pada data test(uji)\n",
        "predict_svm = model_svm.predict(X_test)\n",
        "\n",
        "predict_svm"
      ],
      "execution_count": 13,
      "outputs": [
        {
          "output_type": "execute_result",
          "data": {
            "text/plain": [
              "array(['Gonen', 'Gonen', 'Gonen', ..., 'jasmine', 'jasmine', 'Gonen'],\n",
              "      dtype=object)"
            ]
          },
          "metadata": {},
          "execution_count": 13
        }
      ]
    },
    {
      "cell_type": "code",
      "metadata": {
        "colab": {
          "base_uri": "https://localhost:8080/"
        },
        "id": "k0Xqu5Yag7EL",
        "outputId": "0e448a55-8d06-43af-f47c-3483601b7ade"
      },
      "source": [
        "print(classification_report(y_test, predict_svm))"
      ],
      "execution_count": 14,
      "outputs": [
        {
          "output_type": "stream",
          "name": "stdout",
          "text": [
            "              precision    recall  f1-score   support\n",
            "\n",
            "       Gonen       1.00      0.95      0.97      1661\n",
            "     jasmine       0.96      1.00      0.98      1976\n",
            "\n",
            "    accuracy                           0.98      3637\n",
            "   macro avg       0.98      0.97      0.98      3637\n",
            "weighted avg       0.98      0.98      0.98      3637\n",
            "\n"
          ]
        }
      ]
    },
    {
      "cell_type": "code",
      "metadata": {
        "colab": {
          "base_uri": "https://localhost:8080/"
        },
        "id": "VIVQvsldgeSK",
        "outputId": "f245f492-551b-4e1d-8d88-1d5d44d15456"
      },
      "source": [
        "print(confusion_matrix(y_test, predict_svm))"
      ],
      "execution_count": 15,
      "outputs": [
        {
          "output_type": "stream",
          "name": "stdout",
          "text": [
            "[[1578   83]\n",
            " [   3 1973]]\n"
          ]
        }
      ]
    },
    {
      "cell_type": "code",
      "metadata": {
        "colab": {
          "base_uri": "https://localhost:8080/"
        },
        "id": "37cAMiBwhWCN",
        "outputId": "07f42a30-3f11-4aab-fc9a-bd5d278a16c6"
      },
      "source": [
        "print(fbeta_score(y_test, predict_svm, beta=0.5, average=\"micro\"))"
      ],
      "execution_count": 16,
      "outputs": [
        {
          "output_type": "stream",
          "name": "stdout",
          "text": [
            "0.9763541380258456\n"
          ]
        }
      ]
    },
    {
      "cell_type": "markdown",
      "metadata": {
        "id": "u59TJFieHwUj"
      },
      "source": [
        "# SVR"
      ]
    },
    {
      "cell_type": "markdown",
      "metadata": {
        "id": "S_HHbZqvHzzp"
      },
      "source": [
        "Support Vector Regression (SVR) merupakan suatu metode SVM yang diterapkan pada kasus regresi. Menurut (Scholkopt dan Smola, 2012), SVR bertujuan untuk menemukan sebuah fungsi f(x) sebagai suatu hyperplane (garis pemisah) berupa fungsi regresi yang mana sesuai dengan semua input data dengan membuat error (ε) sekecil mungkin. Menurut Santoso (2007), misalkan dipunyai l set data training, ( Xi, Yi) , i = 1,2,…,l dimana Xi merupakan vektor input"
      ]
    },
    {
      "cell_type": "code",
      "metadata": {
        "id": "iL4hIbyJH0gB"
      },
      "source": [
        "from sklearn.preprocessing import LabelEncoder"
      ],
      "execution_count": 17,
      "outputs": []
    },
    {
      "cell_type": "code",
      "metadata": {
        "id": "6LOMZ_xYH5hz"
      },
      "source": [
        "le = LabelEncoder()\n",
        "y_train_encode = le.fit_transform(y_train)\n"
      ],
      "execution_count": 18,
      "outputs": []
    },
    {
      "cell_type": "code",
      "metadata": {
        "colab": {
          "base_uri": "https://localhost:8080/"
        },
        "id": "i4iue7EcH7up",
        "outputId": "04036792-9989-4d8d-aa7a-c2ada9ac9a88"
      },
      "source": [
        "model_svr = svm.SVR(kernel='rbf')\n",
        "model_svr.fit(X_train, y_train_encode.astype('int'))\n",
        "\n",
        "model_svr"
      ],
      "execution_count": 19,
      "outputs": [
        {
          "output_type": "execute_result",
          "data": {
            "text/plain": [
              "SVR(C=1.0, cache_size=200, coef0=0.0, degree=3, epsilon=0.1, gamma='scale',\n",
              "    kernel='rbf', max_iter=-1, shrinking=True, tol=0.001, verbose=False)"
            ]
          },
          "metadata": {},
          "execution_count": 19
        }
      ]
    },
    {
      "cell_type": "code",
      "metadata": {
        "colab": {
          "base_uri": "https://localhost:8080/"
        },
        "id": "UFEqyvc8H_JC",
        "outputId": "bbc1fd75-b6e7-4e60-f0bf-14ef46f25b7d"
      },
      "source": [
        "predict_svr = model_svr.predict(X_test)\n",
        "predict_svr.round()"
      ],
      "execution_count": 20,
      "outputs": [
        {
          "output_type": "execute_result",
          "data": {
            "text/plain": [
              "array([ 0., -0., -0., ...,  1.,  1., -0.])"
            ]
          },
          "metadata": {},
          "execution_count": 20
        }
      ]
    },
    {
      "cell_type": "code",
      "metadata": {
        "colab": {
          "base_uri": "https://localhost:8080/"
        },
        "id": "FkEZOdV7IBPQ",
        "outputId": "cc3d1794-6594-4710-a162-5a9e93cafa91"
      },
      "source": [
        "print(fbeta_score(y_test, predict_svm, beta=1.3, average='micro'))"
      ],
      "execution_count": 21,
      "outputs": [
        {
          "output_type": "stream",
          "name": "stdout",
          "text": [
            "0.9763541380258457\n"
          ]
        }
      ]
    }
  ]
}